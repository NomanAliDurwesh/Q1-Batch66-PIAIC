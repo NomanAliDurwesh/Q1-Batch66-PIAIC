{
  "nbformat": 4,
  "nbformat_minor": 0,
  "metadata": {
    "colab": {
      "provenance": [],
      "authorship_tag": "ABX9TyM00683NMPmMYzJ/PBJXRz+",
      "include_colab_link": true
    },
    "kernelspec": {
      "name": "python3",
      "display_name": "Python 3"
    },
    "language_info": {
      "name": "python"
    }
  },
  "cells": [
    {
      "cell_type": "markdown",
      "metadata": {
        "id": "view-in-github",
        "colab_type": "text"
      },
      "source": [
        "<a href=\"https://colab.research.google.com/github/NomanAliDurwesh/Q1-Batch66-PIAIC/blob/main/Project4.ipynb\" target=\"_parent\"><img src=\"https://colab.research.google.com/assets/colab-badge.svg\" alt=\"Open In Colab\"/></a>"
      ]
    },
    {
      "cell_type": "code",
      "execution_count": null,
      "metadata": {
        "id": "1uKg_NVBwTUY"
      },
      "outputs": [],
      "source": []
    },
    {
      "cell_type": "code",
      "source": [
        "#rock paper scissors\n",
        "\n",
        "import random\n",
        "\n",
        "def rock_paper_scissors():\n",
        "    print(\"Welcome to Rock, Paper, Scissors!\")\n",
        "\n",
        "    options = [\"rock\", \"paper\", \"scissors\"]\n",
        "\n",
        "    while True:\n",
        "        user_choice = input(\"Enter your choice (rock, paper, scissors) or 'quit' to exit: \").lower()\n",
        "\n",
        "        if user_choice == 'quit':\n",
        "            print(\"Thanks for playing!\")\n",
        "            break\n",
        "\n",
        "        if user_choice not in options:\n",
        "            print(\"Invalid choice! Please try again.\")\n",
        "            continue\n",
        "\n",
        "        computer_choice = random.choice(options)\n",
        "        print(f\"Computer chose: {computer_choice}\")\n",
        "\n",
        "        # Determine the winner\n",
        "        if user_choice == computer_choice:\n",
        "            print(\"It's a tie!\")\n",
        "        elif (user_choice == \"rock\" and computer_choice == \"scissors\") or \\\n",
        "             (user_choice == \"paper\" and computer_choice == \"rock\") or \\\n",
        "             (user_choice == \"scissors\" and computer_choice == \"paper\"):\n",
        "            print(\"You win!\")\n",
        "        else:\n",
        "            print(\"You lose!\")\n",
        "\n",
        "        print()  # Print a blank line for better readability\n",
        "\n",
        "# Run the game\n",
        "rock_paper_scissors()\n"
      ],
      "metadata": {
        "id": "OWLgFIxrl59w"
      },
      "execution_count": null,
      "outputs": []
    }
  ]
}