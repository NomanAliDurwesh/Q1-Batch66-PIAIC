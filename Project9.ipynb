{
  "nbformat": 4,
  "nbformat_minor": 0,
  "metadata": {
    "colab": {
      "provenance": [],
      "authorship_tag": "ABX9TyM/YHKCB9sgvtcFHRm7GcV0",
      "include_colab_link": true
    },
    "kernelspec": {
      "name": "python3",
      "display_name": "Python 3"
    },
    "language_info": {
      "name": "python"
    }
  },
  "cells": [
    {
      "cell_type": "markdown",
      "metadata": {
        "id": "view-in-github",
        "colab_type": "text"
      },
      "source": [
        "<a href=\"https://colab.research.google.com/github/NomanAliDurwesh/Q1-Batch66-PIAIC/blob/main/Project9.ipynb\" target=\"_parent\"><img src=\"https://colab.research.google.com/assets/colab-badge.svg\" alt=\"Open In Colab\"/></a>"
      ]
    },
    {
      "cell_type": "code",
      "execution_count": null,
      "metadata": {
        "id": "6U--M5D75_6U"
      },
      "outputs": [],
      "source": [
        "#python website\n",
        "\n",
        "pip install streamlit\n",
        "\n",
        "import streamlit as st\n",
        "\n",
        "# Set page configuration\n",
        "st.set_page_config(\n",
        "    page_title=\"My Streamlit Website\",\n",
        "    page_icon=\"🌐\",\n",
        "    layout=\"wide\"\n",
        ")\n",
        "\n",
        "# Sidebar for navigation\n",
        "st.sidebar.title(\"Navigation\")\n",
        "page = st.sidebar.radio(\"Go to\", [\"Home\", \"About\", \"Contact\"])\n",
        "\n",
        "# Home Page\n",
        "if page == \"Home\":\n",
        "    st.title(\"Welcome to My Website! 🏠\")\n",
        "    st.write(\"This is the home page of my Streamlit website.\")\n",
        "    st.image(\"https://via.placeholder.com/800x400\", caption=\"Placeholder Image\", use_column_width=True)\n",
        "    st.write(\"Feel free to explore the other pages using the sidebar.\")\n",
        "\n",
        "# About Page\n",
        "elif page == \"About\":\n",
        "    st.title(\"About Me 🧑‍💻\")\n",
        "    st.write(\"Hi, I'm a developer building cool stuff with Streamlit!\")\n",
        "    st.write(\"This website is a demonstration of how easy it is to create a multi-page app using Streamlit.\")\n",
        "    st.write(\"Here are some of my skills:\")\n",
        "    st.markdown(\"- Python Programming\")\n",
        "    st.markdown(\"- Data Analysis\")\n",
        "    st.markdown(\"- Web Development with Streamlit\")\n",
        "\n",
        "# Contact Page\n",
        "elif page == \"Contact\":\n",
        "    st.title(\"Contact Me 📧\")\n",
        "    st.write(\"If you'd like to get in touch, please fill out the form below.\")\n",
        "\n",
        "    with st.form(\"contact_form\"):\n",
        "        name = st.text_input(\"Name\")\n",
        "        email = st.text_input(\"Email\")\n",
        "        message = st.text_area(\"Message\")\n",
        "        submitted = st.form_submit_button(\"Submit\")\n",
        "\n",
        "        if submitted:\n",
        "            st.success(f\"Thank you, {name}! Your message has been sent.\")"
      ]
    }
  ]
}