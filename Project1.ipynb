{
  "nbformat": 4,
  "nbformat_minor": 0,
  "metadata": {
    "colab": {
      "provenance": [],
      "authorship_tag": "ABX9TyMyEPNkFwSfBPFbP/bmnIwK",
      "include_colab_link": true
    },
    "kernelspec": {
      "name": "python3",
      "display_name": "Python 3"
    },
    "language_info": {
      "name": "python"
    }
  },
  "cells": [
    {
      "cell_type": "markdown",
      "metadata": {
        "id": "view-in-github",
        "colab_type": "text"
      },
      "source": [
        "<a href=\"https://colab.research.google.com/github/NomanAliDurwesh/Q1-Batch66-PIAIC/blob/main/Project1.ipynb\" target=\"_parent\"><img src=\"https://colab.research.google.com/assets/colab-badge.svg\" alt=\"Open In Colab\"/></a>"
      ]
    },
    {
      "cell_type": "code",
      "execution_count": null,
      "metadata": {
        "id": "nv7qWpilkEi1"
      },
      "outputs": [],
      "source": [
        "#mad libs\n",
        "def mad_libs():\n",
        "    print(\"Welcome to Mad Libs!\")\n",
        "\n",
        "    # Gather inputs from the user\n",
        "    adjective1 = input(\"Enter an adjective: \")\n",
        "    adjective2 = input(\"Enter another adjective: \")\n",
        "    noun1 = input(\"Enter a noun: \")\n",
        "    noun2 = input(\"Enter another noun: \")\n",
        "    verb1 = input(\"Enter a verb: \")\n",
        "    adverb1 = input(\"Enter an adverb: \")\n",
        "    place = input(\"Enter a place: \")\n",
        "\n",
        "    # Create the story\n",
        "    story = f\"Once upon a time in a {adjective1} {place}, there was a {adjective2} {noun1}. \" \\\n",
        "            f\"Every day, it would {verb1} {adverb1} around the {noun2}. \" \\\n",
        "            f\"One day, it decided to go on an adventure!\"\n",
        "\n",
        "    print(\"\\nHere’s your story:\\n\")"
      ]
    },
    {
      "cell_type": "code",
      "source": [
        "\n"
      ],
      "metadata": {
        "id": "d5PM6CnYp0jl"
      },
      "execution_count": null,
      "outputs": []
    }
  ]
}