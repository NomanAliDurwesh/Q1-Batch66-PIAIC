{
  "nbformat": 4,
  "nbformat_minor": 0,
  "metadata": {
    "colab": {
      "provenance": [],
      "authorship_tag": "ABX9TyN9/NAz5mMwcVOnlHvZmRHi",
      "include_colab_link": true
    },
    "kernelspec": {
      "name": "python3",
      "display_name": "Python 3"
    },
    "language_info": {
      "name": "python"
    }
  },
  "cells": [
    {
      "cell_type": "markdown",
      "metadata": {
        "id": "view-in-github",
        "colab_type": "text"
      },
      "source": [
        "<a href=\"https://colab.research.google.com/github/NomanAliDurwesh/Q1-Batch66-PIAIC/blob/main/Project6.ipynb\" target=\"_parent\"><img src=\"https://colab.research.google.com/assets/colab-badge.svg\" alt=\"Open In Colab\"/></a>"
      ]
    },
    {
      "cell_type": "code",
      "execution_count": null,
      "metadata": {
        "id": "BVIid6b3xJwq"
      },
      "outputs": [],
      "source": [
        "#countdown timer\n",
        "\n",
        "import time\n",
        "\n",
        "def countdown_timer(seconds):\n",
        "    while seconds:\n",
        "        mins, secs = divmod(seconds, 60)\n",
        "        timer = f'{mins:02d}:{secs:02d}'\n",
        "        print(timer, end='\\r')  # Print the timer on the same line\n",
        "        time.sleep(1)\n",
        "        seconds -= 1\n",
        "\n",
        "    print(\"Time's up!\")\n",
        "\n",
        "def main():\n",
        "    try:\n",
        "        total_seconds = int(input(\"Enter the time in seconds: \"))\n",
        "        countdown_timer(total_seconds)\n",
        "    except ValueError:\n",
        "        print(\"Please enter a valid integer.\")\n",
        "\n",
        "# Run the countdown timer\n",
        "main()\n"
      ]
    }
  ]
}