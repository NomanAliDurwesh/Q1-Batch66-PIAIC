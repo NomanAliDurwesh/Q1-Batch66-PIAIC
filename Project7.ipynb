{
  "nbformat": 4,
  "nbformat_minor": 0,
  "metadata": {
    "colab": {
      "provenance": [],
      "authorship_tag": "ABX9TyN4pNGkAvt89aeVtbicbyI6",
      "include_colab_link": true
    },
    "kernelspec": {
      "name": "python3",
      "display_name": "Python 3"
    },
    "language_info": {
      "name": "python"
    }
  },
  "cells": [
    {
      "cell_type": "markdown",
      "metadata": {
        "id": "view-in-github",
        "colab_type": "text"
      },
      "source": [
        "<a href=\"https://colab.research.google.com/github/NomanAliDurwesh/Q1-Batch66-PIAIC/blob/main/Project7.ipynb\" target=\"_parent\"><img src=\"https://colab.research.google.com/assets/colab-badge.svg\" alt=\"Open In Colab\"/></a>"
      ]
    },
    {
      "cell_type": "code",
      "execution_count": null,
      "metadata": {
        "id": "LUurAXJq3flu"
      },
      "outputs": [],
      "source": [
        "#password generator\n",
        "\n",
        "import random\n",
        "import string\n",
        "\n",
        "def generate_password(length=12, use_uppercase=True, use_digits=True, use_special_chars=True):\n",
        "    # Define character sets\n",
        "    lowercase = string.ascii_lowercase\n",
        "    uppercase = string.ascii_uppercase if use_uppercase else ''\n",
        "    digits = string.digits if use_digits else ''\n",
        "    special_chars = string.punctuation if use_special_chars else ''\n",
        "\n",
        "    # Combine all character sets\n",
        "    all_characters = lowercase + uppercase + digits + special_chars\n",
        "\n",
        "    # Check if we have characters to choose from\n",
        "    if not all_characters:\n",
        "        raise ValueError(\"At least one character set must be selected.\")\n",
        "\n",
        "    # Generate password\n",
        "    password = ''.join(random.choice(all_characters) for _ in range(length))\n",
        "    return password\n",
        "\n",
        "def main():\n",
        "    try:\n",
        "        length = int(input(\"Enter the desired password length: \"))\n",
        "        use_uppercase = input(\"Include uppercase letters? (y/n): \").lower() == 'y'\n",
        "        use_digits = input(\"Include digits? (y/n): \").lower() == 'y'\n",
        "        use_special_chars = input(\"Include special characters? (y/n): \").lower() == 'y'\n",
        "\n",
        "        password = generate_password(length, use_uppercase, use_digits, use_special_chars)\n",
        "        print(\"Generated password:\", password)\n",
        "\n",
        "    except ValueError as e:\n",
        "        print(f\"Error: {e}\")\n",
        "\n",
        "# Run the password generator\n",
        "main()"
      ]
    }
  ]
}