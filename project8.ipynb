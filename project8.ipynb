{
  "nbformat": 4,
  "nbformat_minor": 0,
  "metadata": {
    "colab": {
      "provenance": [],
      "authorship_tag": "ABX9TyNbg31Xj/MAYxICOamtoPl4",
      "include_colab_link": true
    },
    "kernelspec": {
      "name": "python3",
      "display_name": "Python 3"
    },
    "language_info": {
      "name": "python"
    }
  },
  "cells": [
    {
      "cell_type": "markdown",
      "metadata": {
        "id": "view-in-github",
        "colab_type": "text"
      },
      "source": [
        "<a href=\"https://colab.research.google.com/github/NomanAliDurwesh/Q1-Batch66-PIAIC/blob/main/project8.ipynb\" target=\"_parent\"><img src=\"https://colab.research.google.com/assets/colab-badge.svg\" alt=\"Open In Colab\"/></a>"
      ]
    },
    {
      "cell_type": "code",
      "execution_count": null,
      "metadata": {
        "id": "_WpR8GQ94Hb6"
      },
      "outputs": [],
      "source": [
        "#BMI Calculator Web App\n",
        "\n",
        "pip install streamlit\n",
        "\n",
        "import streamlit as st\n",
        "\n",
        "# Title of the web app\n",
        "st.title(\"BMI Calculator\")\n",
        "\n",
        "# Input fields for weight and height\n",
        "weight = st.number_input(\"Enter your weight (in kg)\", min_value=0.0, format=\"%.2f\")\n",
        "height = st.number_input(\"Enter your height (in meters)\", min_value=0.0, format=\"%.2f\")\n",
        "\n",
        "# Calculate BMI\n",
        "if st.button(\"Calculate BMI\"):\n",
        "    if weight > 0 and height > 0:\n",
        "        bmi = weight / (height ** 2)\n",
        "        st.write(f\"Your BMI is: **{bmi:.2f}**\")\n",
        "\n",
        "        # BMI Classification\n",
        "        if bmi < 18.5:\n",
        "            st.write(\"You are **Underweight**.\")\n",
        "        elif 18.5 <= bmi < 24.9:\n",
        "            st.write(\"You are **Normal weight**.\")\n",
        "        elif 25 <= bmi < 29.9:\n",
        "            st.write(\"You are **Overweight**.\")\n",
        "        else:\n",
        "            st.write(\"You are **Obese**.\")\n",
        "    else:\n",
        "        st.error(\"Please enter valid weight and height values.\")"
      ]
    }
  ]
}