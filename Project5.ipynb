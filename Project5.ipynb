{
  "nbformat": 4,
  "nbformat_minor": 0,
  "metadata": {
    "colab": {
      "provenance": [],
      "authorship_tag": "ABX9TyM31QIfgP5tMXu6D0GOrPid",
      "include_colab_link": true
    },
    "kernelspec": {
      "name": "python3",
      "display_name": "Python 3"
    },
    "language_info": {
      "name": "python"
    }
  },
  "cells": [
    {
      "cell_type": "markdown",
      "metadata": {
        "id": "view-in-github",
        "colab_type": "text"
      },
      "source": [
        "<a href=\"https://colab.research.google.com/github/NomanAliDurwesh/Q1-Batch66-PIAIC/blob/main/Project5.ipynb\" target=\"_parent\"><img src=\"https://colab.research.google.com/assets/colab-badge.svg\" alt=\"Open In Colab\"/></a>"
      ]
    },
    {
      "cell_type": "code",
      "execution_count": null,
      "metadata": {
        "id": "WBGVQCuiwga0"
      },
      "outputs": [],
      "source": [
        "#hangman\n",
        "\n",
        "import random\n",
        "\n",
        "def hangman():\n",
        "    words = [\"python\", \"java\", \"javascript\", \"hangman\", \"programming\", \"computer\", \"developer\"]\n",
        "    secret_word = random.choice(words)\n",
        "    guessed_letters = []\n",
        "    attempts = 6\n",
        "    word_completion = \"_\" * len(secret_word)\n",
        "\n",
        "    print(\"Welcome to Hangman!\")\n",
        "    print(\"You have 6 attempts to guess the word.\")\n",
        "\n",
        "    while attempts > 0 and \"_\" in word_completion:\n",
        "        print(\"\\n\" + \"Current word: \" + \" \".join(word_completion))\n",
        "        print(\"Attempts remaining:\", attempts)\n",
        "        print(\"Guessed letters:\", \" \".join(guessed_letters))\n",
        "\n",
        "        guess = input(\"Guess a letter: \").lower()\n",
        "\n",
        "        if len(guess) != 1 or not guess.isalpha():\n",
        "            print(\"Invalid input! Please enter a single letter.\")\n",
        "            continue\n",
        "\n",
        "        if guess in guessed_letters:\n",
        "            print(\"You've already guessed that letter. Try again.\")\n",
        "            continue\n",
        "\n",
        "        guessed_letters.append(guess)\n",
        "\n",
        "        if guess in secret_word:\n",
        "            print(\"Good guess!\")\n",
        "            word_completion = \"\".join([letter if letter in guessed_letters else \"_\" for letter in secret_word])\n",
        "        else:\n",
        "            attempts -= 1\n",
        "            print(\"Wrong guess!\")\n",
        "\n",
        "    if \"_\" not in word_completion:\n",
        "        print(\"\\nCongratulations! You've guessed the word:\", secret_word)\n",
        "    else:\n",
        "        print(\"\\nOut of attempts! The word was:\", secret_word)\n",
        "\n",
        "# Run the game\n",
        "hangman()"
      ]
    }
  ]
}